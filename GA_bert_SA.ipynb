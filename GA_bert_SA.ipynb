{
 "cells": [
  {
   "cell_type": "code",
   "execution_count": 31,
   "id": "9e989aba-8c08-4a18-869a-516aff261122",
   "metadata": {
    "tags": []
   },
   "outputs": [
    {
     "name": "stderr",
     "output_type": "stream",
     "text": [
      "[nltk_data] Downloading package punkt to\n",
      "[nltk_data]     C:\\Users\\15105006\\AppData\\Roaming\\nltk_data...\n",
      "[nltk_data]   Package punkt is already up-to-date!\n"
     ]
    },
    {
     "data": {
      "application/vnd.jupyter.widget-view+json": {
       "model_id": "701ab1c36d9d43aebfc8b2cefe6528ef",
       "version_major": 2,
       "version_minor": 0
      },
      "text/plain": [
       "Downloading tokenizer_config.json:   0%|          | 0.00/39.0 [00:00<?, ?B/s]"
      ]
     },
     "metadata": {},
     "output_type": "display_data"
    },
    {
     "data": {
      "application/vnd.jupyter.widget-view+json": {
       "model_id": "048e7467af35477f98c371f86e345059",
       "version_major": 2,
       "version_minor": 0
      },
      "text/plain": [
       "Downloading config.json:   0%|          | 0.00/953 [00:00<?, ?B/s]"
      ]
     },
     "metadata": {},
     "output_type": "display_data"
    },
    {
     "data": {
      "application/vnd.jupyter.widget-view+json": {
       "model_id": "4480dc074e464aa3ac0be890cddc49ca",
       "version_major": 2,
       "version_minor": 0
      },
      "text/plain": [
       "Downloading vocab.txt:   0%|          | 0.00/872k [00:00<?, ?B/s]"
      ]
     },
     "metadata": {},
     "output_type": "display_data"
    },
    {
     "data": {
      "application/vnd.jupyter.widget-view+json": {
       "model_id": "7d5c7bf4a41a43bd995f9ebfa78529da",
       "version_major": 2,
       "version_minor": 0
      },
      "text/plain": [
       "Downloading (…)cial_tokens_map.json:   0%|          | 0.00/112 [00:00<?, ?B/s]"
      ]
     },
     "metadata": {},
     "output_type": "display_data"
    },
    {
     "data": {
      "application/vnd.jupyter.widget-view+json": {
       "model_id": "b4562f0281c4466caa7c0dad38c88d69",
       "version_major": 2,
       "version_minor": 0
      },
      "text/plain": [
       "Downloading pytorch_model.bin:   0%|          | 0.00/669M [00:00<?, ?B/s]"
      ]
     },
     "metadata": {},
     "output_type": "display_data"
    },
    {
     "name": "stdout",
     "output_type": "stream",
     "text": [
      "count    500.000000\n",
      "mean      -0.972000\n",
      "std        0.142325\n",
      "min       -1.000000\n",
      "25%       -1.000000\n",
      "50%       -1.000000\n",
      "75%       -1.000000\n",
      "max        1.000000\n",
      "Name: Sentiment, dtype: float64\n"
     ]
    },
    {
     "data": {
      "image/png": "[encoded data removed]",
      "text/plain": [
       "<Figure size 640x480 with 1 Axes>"
      ]
     },
     "metadata": {},
     "output_type": "display_data"
    }
   ],
   "source": [
    "import pandas as pd\n",
    "import nltk\n",
    "import requests\n",
    "import string\n",
    "from nltk.tokenize import word_tokenize\n",
    "import matplotlib.pyplot as plt\n",
    "from transformers import AutoTokenizer, AutoModelForSequenceClassification, pipeline\n",
    "\n",
    "# Download necessary NLTK resources\n",
    "nltk.download('punkt')\n",
    "\n",
    "# Load Irish stop words from spaCy GitHub repository\n",
    "stop_words_url = 'https://raw.githubusercontent.com/explosion/spaCy/master/spacy/lang/ga/stop_words.py'\n",
    "response = requests.get(stop_words_url)\n",
    "exec(response.text)\n",
    "irish_stop_words = STOP_WORDS  # This should be a set of stop words\n",
    "\n",
    "# Load the CSV file\n",
    "file_path = 'duchas_stories_irish.csv'\n",
    "irish_stories = pd.read_csv(file_path)\n",
    "\n",
    "def preprocess_text(text):\n",
    "    # Convert to lowercase\n",
    "    text = text.lower()\n",
    "    # Remove punctuation\n",
    "    text = text.translate(str.maketrans('', '', string.punctuation))\n",
    "    # Remove special characters and digits\n",
    "    text = ''.join([i for i in text if not i.isdigit()])\n",
    "    # Tokenize\n",
    "    words = word_tokenize(text)\n",
    "    # Remove stop words\n",
    "    words = [word for word in words if word not in irish_stop_words]\n",
    "    # Join words back to a single string\n",
    "    return ' '.join(words)\n",
    "\n",
    "# Apply preprocessing\n",
    "irish_stories['Transcription'] = irish_stories['Transcription'].apply(preprocess_text)\n",
    "\n",
    "# Load the pre-trained model and tokenizer for sentiment analysis\n",
    "model_name = \"nlptown/bert-base-multilingual-uncased-sentiment\"\n",
    "tokenizer = AutoTokenizer.from_pretrained(model_name)\n",
    "model = AutoModelForSequenceClassification.from_pretrained(model_name)\n",
    "\n",
    "# Create a sentiment analysis pipeline\n",
    "sentiment_pipeline = pipeline('sentiment-analysis', model=model, tokenizer=tokenizer)\n",
    "\n",
    "# Function to get sentiment polarity score\n",
    "def get_sentiment_score(text):\n",
    "    result = sentiment_pipeline(text)[0]\n",
    "    label = result['label']\n",
    "    score = result['score']\n",
    "    # Convert label to a numerical score\n",
    "    label_to_score = {'1 star': -1, '2 stars': -0.5, '3 stars': 0, '4 stars': 0.5, '5 stars': 1}\n",
    "    return label_to_score[label]\n",
    "\n",
    "# Apply sentiment analysis\n",
    "irish_stories['Sentiment'] = irish_stories['Transcription'].apply(get_sentiment_score)\n",
    "\n",
    "# Analyze and visualize results\n",
    "print(irish_stories['Sentiment'].describe())\n",
    "\n",
    "# Plot sentiment distribution\n",
    "irish_stories['Sentiment'].hist(bins=50)\n",
    "plt.title('Sentiment Distribution')\n",
    "plt.xlabel('Sentiment Polarity')\n",
    "plt.ylabel('Frequency')\n",
    "plt.show()\n",
    "\n",
    "# Save the results\n",
    "irish_stories.to_csv('irish_stories_with_sentiment_scores.csv', index=False)\n"
   ]
  },
  {
   "cell_type": "code",
   "execution_count": null,
   "id": "2cd6def7-07f8-4ef1-8c06-ea1534522812",
   "metadata": {},
   "outputs": [],
   "source": []
  }
 ],
 "metadata": {
  "kernelspec": {
   "display_name": "Python 3 (ipykernel)",
   "language": "python",
   "name": "python3"
  },
  "language_info": {
   "codemirror_mode": {
    "name": "ipython",
    "version": 3
   },
   "file_extension": ".py",
   "mimetype": "text/x-python",
   "name": "python",
   "nbconvert_exporter": "python",
   "pygments_lexer": "ipython3",
   "version": "3.12.7"
  }
 },
 "nbformat": 4,
 "nbformat_minor": 5
}
